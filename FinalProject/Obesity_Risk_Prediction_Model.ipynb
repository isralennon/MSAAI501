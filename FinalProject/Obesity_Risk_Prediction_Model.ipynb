{
 "cells": [
  {
   "cell_type": "markdown",
   "id": "a5308793",
   "metadata": {},
   "source": [
    "# Obesity Risk Prediction Model\n",
    "This notebook develops a classification model to predict individuals at high risk for obesity based on demographic and lifestyle features. It includes data loading, preprocessing, exploratory data analysis, model training, and evaluation."
   ]
  },
  {
   "cell_type": "markdown",
   "id": "ffa569ea-f935-476a-a9e7-998a66428eb0",
   "metadata": {},
   "source": [
    "### Dataset Information\n",
    "\n",
    "The *Obesity Levels*$\\text{}^{1}$ dataset observed includes estimation of obesity levels in individuals from the countries of Mexico, Peru and Colombia, based on their eating habits and physical condition. The data contains 17 attributes and 2111 records, the records are labeled with the class variable NObesity (Obesity Level), that allows classification of the data using the values of Insufficient Weight, Normal Weight, Overweight Level I, Overweight Level II, Obesity Type I, Obesity Type II and Obesity Type III. 77% of the data was generated synthetically using the Weka tool and the SMOTE filter, 23% of the data was collected directly from users through a web platform."
   ]
  },
  {
   "cell_type": "markdown",
   "id": "c6af7b7c-464b-4fa4-b66f-542380ad65d4",
   "metadata": {},
   "source": [
    "This dataset contains the following columns:\n",
    "\n",
    "- **Gender:** Feature, Categorical, \"Gender\"\n",
    "- **Age:** Feature, Continuous, \"Age\"\n",
    "- **Height:** Feature, Continuous\n",
    "- **Weight:** Feature Continuous\n",
    "- **family_history_with_overweight:** Feature, Binary, \"Has a family member suffered or suffers from overweight?\"\n",
    "- **FAVC:** Feature, Binary, \"Do you eat high caloric food frequently?\"\n",
    "- **FCVC:** Feature, Integer, \"Do you usually eat vegetables in your meals?\"\n",
    "- **NCP:** Feature, Continuous, \"How many main meals do you have daily?\"\n",
    "- **CAEC:** Feature, Categorical, \"Do you eat any food between meals?\"\n",
    "- **SMOKE:** Feature, Binary, \"Do you smoke?\"\n",
    "- **CH2O:** Feature, Continuous, \"How much water do you drink daily?\"\n",
    "- **SCC:** Feature, Binary, \"Do you monitor the calories you eat daily?\"\n",
    "- **FAF:** Feature, Continuous, \"How often do you have physical activity?\"\n",
    "- **TUE:** Feature, Integer, \"How much time do you use technological devices such as cell phone, videogames, television, computer and others?\"\n",
    "- **CALC:** Feature, Categorical, \"How often do you drink alcohol?\"\n",
    "- **MTRANS:** Feature, Categorical, \"Which transportation do you usually use?\"\n",
    "- **NObeyesdad:** Target, Categorical, \"Obesity level\""
   ]
  },
  {
   "cell_type": "markdown",
   "id": "edc668fb",
   "metadata": {},
   "source": [
    "## 1. Import Libraries"
   ]
  },
  {
   "cell_type": "code",
   "execution_count": null,
   "id": "0304f8d9",
   "metadata": {},
   "outputs": [],
   "source": [
    "import pandas as pd\n",
    "import numpy as np\n",
    "import matplotlib.pyplot as plt\n",
    "import seaborn as sns\n",
    "import warnings\n",
    "\n",
    "from sklearn.model_selection import train_test_split, GridSearchCV\n",
    "from sklearn.preprocessing import StandardScaler, LabelEncoder\n",
    "from sklearn.ensemble import RandomForestClassifier\n",
    "from sklearn.linear_model import LogisticRegression\n",
    "from sklearn.svm import SVC\n",
    "from sklearn.metrics import classification_report, confusion_matrix, accuracy_score\n",
    "from sklearn.exceptions import ConvergenceWarning\n",
    "\n",
    "# Suppress only ConvergenceWarning\n",
    "warnings.filterwarnings(\"ignore\", category=ConvergenceWarning)"
   ]
  },
  {
   "cell_type": "markdown",
   "id": "ee8c7535",
   "metadata": {},
   "source": [
    "## 2. Load Data\n",
    "Load the dataset and examine the first few rows."
   ]
  },
  {
   "cell_type": "code",
   "execution_count": null,
   "id": "74ce523c",
   "metadata": {},
   "outputs": [],
   "source": [
    "data_raw = pd.read_csv('ObesityDataSet_raw.csv')\n",
    "data_raw.head()"
   ]
  },
  {
   "cell_type": "markdown",
   "id": "ddc7b932",
   "metadata": {},
   "source": [
    "## 3. Data Preprocessing\n",
    "Convert categorical features to numeric, handle missing values, and scale numerical features."
   ]
  },
  {
   "cell_type": "code",
   "execution_count": null,
   "id": "a90516ac",
   "metadata": {},
   "outputs": [],
   "source": [
    "# TODO: Add more cleaning steps if needed. \n",
    "# Check for missing values\n",
    "data_raw.isnull().sum()"
   ]
  },
  {
   "cell_type": "code",
   "execution_count": null,
   "id": "dd0986e0",
   "metadata": {},
   "outputs": [],
   "source": [
    "# Drop missing values\n",
    "data = data_raw.dropna()"
   ]
  },
  {
   "cell_type": "code",
   "execution_count": null,
   "id": "b5e67af0",
   "metadata": {},
   "outputs": [],
   "source": [
    "# Encode categorical features\n",
    "label_encoders = {}\n",
    "# Dictionary to store the relationship between original and encoded values\n",
    "value_mapping = {}\n",
    "for column in data.select_dtypes(include=['object']).columns:\n",
    "    le = LabelEncoder()\n",
    "    data[column] = le.fit_transform(data[column])\n",
    "    # Store the mapping of original values to encoded values\n",
    "    value_mapping[column] = dict(zip(le.classes_, range(len(le.classes_))))\n",
    "    #Then, proceed with the replacement.\n",
    "    label_encoders[column] = le\n",
    "\n",
    "data.head()"
   ]
  },
  {
   "cell_type": "code",
   "execution_count": null,
   "id": "93549554-e722-44f6-86d7-268334ac81f4",
   "metadata": {},
   "outputs": [],
   "source": [
    "def printMappedValues(MyDictionary):\n",
    "    for column, mapping in MyDictionary.items():\n",
    "        # Create an HTML table for each column's mapping\n",
    "        resultText = ''\n",
    "        \n",
    "        # Add rows for each mapping in the dictionary\n",
    "        for original, encoded in mapping.items():\n",
    "            resultText += f'- {original}: {encoded}\\n'\n",
    "        \n",
    "        resultText += '-------------------------'\n",
    "        \n",
    "        # Print the HTML table for the current column\n",
    "        print(f'Values for column: {column}:')\n",
    "        print(resultText)\n",
    "        print('\\n')  # Add space between tables for readability\n",
    "printMappedValues(value_mapping)"
   ]
  },
  {
   "cell_type": "markdown",
   "id": "c2caac0c",
   "metadata": {},
   "source": [
    "## 4. Exploratory Data Analysis (EDA)\n",
    "Explore the distribution of obesity levels and visualize relationships between features."
   ]
  },
  {
   "cell_type": "code",
   "execution_count": null,
   "id": "580b999b",
   "metadata": {},
   "outputs": [],
   "source": [
    "# Plot with labeled x-axis\n",
    "sns.countplot(x='NObeyesdad', data=data_raw)\n",
    "plt.title('Distribution of Obesity Levels')\n",
    "plt.xticks(rotation=45)\n",
    "plt.show()"
   ]
  },
  {
   "cell_type": "code",
   "execution_count": null,
   "id": "fc229da2",
   "metadata": {},
   "outputs": [],
   "source": [
    "# Correlation matrix\n",
    "plt.figure(figsize=(12,6))\n",
    "sns.heatmap(data.corr(), annot=True, fmt='.2f')\n",
    "plt.title('Feature Correlation Matrix')\n",
    "plt.show()"
   ]
  },
  {
   "cell_type": "code",
   "execution_count": null,
   "id": "9a752748",
   "metadata": {},
   "outputs": [],
   "source": [
    "# create function to iterate through our plot creation \n",
    "def plt_dist(data, column, title=\"\", x=\"Value\", y=\"Frequency\"):\n",
    "\n",
    "    # remap male: 1, female: 0, because facetgrid reads as numeric values \n",
    "    data['Gender_Label'] = data['Gender'].replace({0: 'Female', 1: 'Male'})\n",
    "    fg = sns.FacetGrid(data, col='Gender_Label', height=5, aspect=0.8) # set grid size\n",
    "    fg.map(sns.histplot, column, kde=True) # set our histogram\n",
    "    fg.set_axis_labels(x, y) # set our x and y labels for our plot \n",
    "    fg.fig.suptitle(title, y=1.05) # add title for our plot\n",
    "    plt.show()\n",
    "\n",
    "# plot Age by gender\n",
    "plt_dist(data, column='Age', title='Age Distribution by Gender', x='Age', y='Frequency')\n",
    "# plot hieght by gender \n",
    "plt_dist(data, column='Height', title='Height Distribution by Gender', x='Height', y='Frequency')\n",
    "# plot weight by gender \n",
    "plt_dist(data, column='Weight', title='Weight Distribution by Gender', x='Weight', y='Frequency')\n",
    "\n",
    "    "
   ]
  },
  {
   "cell_type": "code",
   "execution_count": null,
   "id": "a56fa221-d4b1-4b1e-959d-aabe1719f974",
   "metadata": {},
   "outputs": [],
   "source": [
    "#TODO: Add more EDA steps"
   ]
  },
  {
   "cell_type": "markdown",
   "id": "acba2a1d",
   "metadata": {},
   "source": [
    "## 5. Train-Test Split\n",
    "Split the data into training and testing sets."
   ]
  },
  {
   "cell_type": "code",
   "execution_count": null,
   "id": "9207dadc",
   "metadata": {},
   "outputs": [],
   "source": [
    "# TODO: Select refine features selections. Currently all features are being considered. \n",
    "X = data.drop('NObeyesdad', axis=1)\n",
    "y = data['NObeyesdad']\n",
    "X_train, X_test, y_train, y_test = train_test_split(X, y, test_size=0.2, random_state=42)"
   ]
  },
  {
   "cell_type": "markdown",
   "id": "ddfd3240",
   "metadata": {},
   "source": [
    "## 6. Model Training\n",
    "Train multiple models and compare performance."
   ]
  },
  {
   "cell_type": "code",
   "execution_count": null,
   "id": "17b3955e",
   "metadata": {},
   "outputs": [],
   "source": [
    "# TODO: We can add a few more models...\n",
    "# NOTE: We can take this approach or run each model in separate cells. \n",
    "\n",
    "# Initialize models\n",
    "models = {\n",
    "    'Logistic Regression': LogisticRegression(),\n",
    "    'Random Forest': RandomForestClassifier(),\n",
    "}\n",
    "\n",
    "# Train and evaluate models\n",
    "for model_name, model in models.items():\n",
    "    model.fit(X_train, y_train)\n",
    "    y_pred = model.predict(X_test)\n",
    "    accuracy = accuracy_score(y_test, y_pred)\n",
    "    print(f'{model_name} Accuracy: {accuracy:.2f}')"
   ]
  },
  {
   "cell_type": "markdown",
   "id": "6f09c5a0",
   "metadata": {},
   "source": [
    "## 7. Model Evaluation\n",
    "Evaluate the best model with detailed metrics."
   ]
  },
  {
   "cell_type": "code",
   "execution_count": null,
   "id": "3439adf4-e15c-439f-8662-07a1c5d65e09",
   "metadata": {},
   "outputs": [],
   "source": [
    "# TODO: Compare models performance "
   ]
  },
  {
   "cell_type": "markdown",
   "id": "dc6f3d64",
   "metadata": {},
   "source": [
    "## 9. Conclusion\n",
    "Summarize model performance, key findings from feature importance analysis, and potential applications for public health resource allocation."
   ]
  },
  {
   "cell_type": "code",
   "execution_count": null,
   "id": "07f1b2b1-d7ed-4c32-b234-8ec6df40adff",
   "metadata": {},
   "outputs": [],
   "source": [
    "# TODO: Gather models results, pick the model with best accuracy and identify features to be used. "
   ]
  },
  {
   "cell_type": "markdown",
   "id": "5af8ef92-a4f7-40f1-a3c8-4d36ca542d25",
   "metadata": {},
   "source": [
    "\n",
    "----------------\n",
    "$^{1}$ Mehrparvar, F. (2021). Obesity Levels. Kaggle. Retrieved November 9, 2024, from https://www.kaggle.com/datasets/fatemehmehrparvar/obesity-levels/data"
   ]
  }
 ],
 "metadata": {
  "kernelspec": {
   "display_name": "base",
   "language": "python",
   "name": "python3"
  },
  "language_info": {
   "codemirror_mode": {
    "name": "ipython",
    "version": 3
   },
   "file_extension": ".py",
   "mimetype": "text/x-python",
   "name": "python",
   "nbconvert_exporter": "python",
   "pygments_lexer": "ipython3",
   "version": "3.12.3"
  }
 },
 "nbformat": 4,
 "nbformat_minor": 5
}
